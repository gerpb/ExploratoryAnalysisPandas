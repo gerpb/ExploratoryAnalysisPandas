{
  "cells": [
    {
      "cell_type": "markdown",
      "metadata": {
        "id": "zBkkMaB7tGP9"
      },
      "source": [
        "EN ESTA NOTEBOOK PRESENTO EL PROCESO DE LIMPIEZA DE DATOS Y POSTERIOR ANALISIS DE UN DATASET CON INFORMACION DE LA CARRERA PROFESIONAL TENIENDO EN CUENTA GOLES DEL JUGADOR ROBERT LEWANDOWSKI.\n",
        "PORQUE ESPECIFICAMENTE DE LEWANDOWSKI Y NO DE CUALQUIER OTRO JUGADOR DE ELITE?\n",
        "\n",
        "![no hay porque.jpg](data:image/jpeg;base64,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)"
      ]
    },
    {
      "cell_type": "markdown",
      "metadata": {
        "id": "jwL7NLmGvK5E"
      },
      "source": [
        "IMPORTO LIBRERIAS NECESARIAS"
      ]
    },
    {
      "cell_type": "code",
      "execution_count": 45,
      "metadata": {
        "id": "miKrDh72sqNG"
      },
      "outputs": [],
      "source": [
        "import pandas as pd\n",
        "import matplotlib.pyplot as plt"
      ]
    },
    {
      "cell_type": "markdown",
      "metadata": {
        "id": "k5YoslqyvPrV"
      },
      "source": [
        "LEVANTO EL CSV"
      ]
    },
    {
      "cell_type": "code",
      "execution_count": 46,
      "metadata": {
        "id": "AUUlxZRsszt1"
      },
      "outputs": [],
      "source": [
        "lewandowskiDF = pd.read_csv('https://raw.githubusercontent.com/cristiandarioortegayubro/base/main/dataset/lewandowskiSucio.csv')"
      ]
    },
    {
      "cell_type": "markdown",
      "metadata": {
        "id": "BFa9J40AvV2k"
      },
      "source": [
        "PRIMEROS ANALISIS PARA REVISAR CON QUE CANTIDAD DE REGISTROS Y COLUMNAS CONTAMOS ASI COMO CUANTOS REGISTROS NULOS O DUPLICADOS TENEMOS."
      ]
    },
    {
      "cell_type": "code",
      "execution_count": 47,
      "metadata": {
        "colab": {
          "base_uri": "https://localhost:8080/"
        },
        "id": "kpBUEMCSu74g",
        "outputId": "e97dd30d-27d9-43f3-d15e-23f69cba5f17"
      },
      "outputs": [
        {
          "output_type": "execute_result",
          "data": {
            "text/plain": [
              "(612, 13)"
            ]
          },
          "metadata": {},
          "execution_count": 47
        }
      ],
      "source": [
        "lewandowskiDF.shape"
      ]
    },
    {
      "cell_type": "code",
      "execution_count": 48,
      "metadata": {
        "colab": {
          "base_uri": "https://localhost:8080/"
        },
        "id": "9GFKCQ2bt0Nd",
        "outputId": "a147917d-56b6-4116-e7f5-8b66fca940b4"
      },
      "outputs": [
        {
          "output_type": "stream",
          "name": "stdout",
          "text": [
            "<class 'pandas.core.frame.DataFrame'>\n",
            "RangeIndex: 612 entries, 0 to 611\n",
            "Data columns (total 13 columns):\n",
            " #   Column        Non-Null Count  Dtype \n",
            "---  ------        --------------  ----- \n",
            " 0   Tournament    536 non-null    object\n",
            " 1   Matchday      536 non-null    object\n",
            " 2   Date          536 non-null    object\n",
            " 3   Venue         536 non-null    object\n",
            " 4   Club          536 non-null    object\n",
            " 5   Opponent      536 non-null    object\n",
            " 6   Result        536 non-null    object\n",
            " 7   Position      536 non-null    object\n",
            " 8   Minute        536 non-null    object\n",
            " 9   When Scored   536 non-null    object\n",
            " 10  Goal Type     536 non-null    object\n",
            " 11  Assist        536 non-null    object\n",
            " 12  Nacionalidad  536 non-null    object\n",
            "dtypes: object(13)\n",
            "memory usage: 62.3+ KB\n"
          ]
        }
      ],
      "source": [
        "lewandowskiDF.info()"
      ]
    },
    {
      "cell_type": "code",
      "execution_count": 49,
      "metadata": {
        "colab": {
          "base_uri": "https://localhost:8080/"
        },
        "id": "739Tk7gwysjJ",
        "outputId": "d0f7ee61-5763-4239-c105-41df5a042607"
      },
      "outputs": [
        {
          "output_type": "execute_result",
          "data": {
            "text/plain": [
              "Tournament      True\n",
              "Matchday        True\n",
              "Date            True\n",
              "Venue           True\n",
              "Club            True\n",
              "Opponent        True\n",
              "Result          True\n",
              "Position        True\n",
              "Minute          True\n",
              "When Scored     True\n",
              "Goal Type       True\n",
              "Assist          True\n",
              "Nacionalidad    True\n",
              "dtype: bool"
            ]
          },
          "metadata": {},
          "execution_count": 49
        }
      ],
      "source": [
        "lewandowskiDF.isnull().any()"
      ]
    },
    {
      "cell_type": "code",
      "execution_count": 50,
      "metadata": {
        "colab": {
          "base_uri": "https://localhost:8080/"
        },
        "id": "1PbG0doWzgE8",
        "outputId": "3500d717-d61a-462e-cb39-8dfc8fc4a206"
      },
      "outputs": [
        {
          "output_type": "execute_result",
          "data": {
            "text/plain": [
              "True"
            ]
          },
          "metadata": {},
          "execution_count": 50
        }
      ],
      "source": [
        "lewandowskiDF.duplicated().any()"
      ]
    },
    {
      "cell_type": "markdown",
      "metadata": {
        "id": "tlKhsMkOyNRC"
      },
      "source": [
        "DROPEO LOS REGISTROS EN LOS CUALES TODOS SUS DATOS CONTENIDOS EN LAS COLUMNAS SON NULOS Y TAMBIEN ELIMINO LOS REGISTROS DUPLICADOS."
      ]
    },
    {
      "cell_type": "code",
      "execution_count": 51,
      "metadata": {
        "id": "7rCNyuChyMfX"
      },
      "outputs": [],
      "source": [
        "lewandowskiDF.dropna(how='all', inplace=True)"
      ]
    },
    {
      "cell_type": "code",
      "execution_count": 52,
      "metadata": {
        "id": "INDBQfh9z6Lh"
      },
      "outputs": [],
      "source": [
        "lewandowskiDF.drop_duplicates(inplace=True)"
      ]
    },
    {
      "cell_type": "markdown",
      "metadata": {
        "id": "yDpX4NZF0L5D"
      },
      "source": [
        "A CONTINUACION PODEMOS OBSERVAR QUE EL DATAFRAME ORIGINAL POSEIA 612 REGISTROS Y LUEGO DE ELIMINAR NULOS Y DUPLICADOS NOS QUEDO UN DATASET DE 505 REGISTROS."
      ]
    },
    {
      "cell_type": "code",
      "execution_count": 53,
      "metadata": {
        "colab": {
          "base_uri": "https://localhost:8080/"
        },
        "id": "NHSYiumU0FQh",
        "outputId": "15ebfd92-66d2-4d05-9a24-1b179aafcb31"
      },
      "outputs": [
        {
          "output_type": "stream",
          "name": "stdout",
          "text": [
            "<class 'pandas.core.frame.DataFrame'>\n",
            "Int64Index: 505 entries, 0 to 504\n",
            "Data columns (total 13 columns):\n",
            " #   Column        Non-Null Count  Dtype \n",
            "---  ------        --------------  ----- \n",
            " 0   Tournament    505 non-null    object\n",
            " 1   Matchday      505 non-null    object\n",
            " 2   Date          505 non-null    object\n",
            " 3   Venue         505 non-null    object\n",
            " 4   Club          505 non-null    object\n",
            " 5   Opponent      505 non-null    object\n",
            " 6   Result        505 non-null    object\n",
            " 7   Position      505 non-null    object\n",
            " 8   Minute        505 non-null    object\n",
            " 9   When Scored   505 non-null    object\n",
            " 10  Goal Type     505 non-null    object\n",
            " 11  Assist        505 non-null    object\n",
            " 12  Nacionalidad  505 non-null    object\n",
            "dtypes: object(13)\n",
            "memory usage: 55.2+ KB\n"
          ]
        }
      ],
      "source": [
        "lewandowskiDF.info()"
      ]
    },
    {
      "cell_type": "markdown",
      "metadata": {
        "id": "ZEZLSMdN0bSl"
      },
      "source": [
        "AHORA QUE LOS DATOS YA ESTAN UN POCO MAS ORGANIZADOS Y LIMPIOS, VEO CUAL ES EL CONTENIDO GENERAL Y LA INFORMACION QUE DETALLAN LAS COLUMNAS DEL DATASET."
      ]
    },
    {
      "cell_type": "code",
      "execution_count": 54,
      "metadata": {
        "colab": {
          "base_uri": "https://localhost:8080/",
          "height": 206
        },
        "id": "F4Csg0zL0a2N",
        "outputId": "d2ceaaa5-885b-4dc5-a372-ac2937222dba"
      },
      "outputs": [
        {
          "output_type": "execute_result",
          "data": {
            "text/plain": [
              "        Tournament Matchday     Date Venue            Club         Opponent  \\\n",
              "0  Fortuna 1 Liga         1  7/29/07  Away  Znicz Pruszkow   Pelikan Lowicz   \n",
              "1  Fortuna 1 Liga         2   8/5/07  Home  Znicz Pruszkow  Kmita Zabierzów   \n",
              "2  Fortuna 1 Liga        22  3/22/08  Away  Znicz Pruszkow    Slask Wroclaw   \n",
              "3  Fortuna 1 Liga        22  3/22/08  Away  Znicz Pruszkow    Slask Wroclaw   \n",
              "4  Fortuna 1 Liga        31  5/11/08  Home  Znicz Pruszkow     Motor Lublin   \n",
              "\n",
              "  Result Position Minute When Scored       Goal Type           Assist  \\\n",
              "0    0:2       CF    90'         0:2  Not Applicable   Not Applicable   \n",
              "1    4:0       CF    77'         4:0  Not Applicable   Not Applicable   \n",
              "2    0:3       CF    24'         0:1  Not Applicable     Igor Lewczuk   \n",
              "3    0:3       CF    56'         0:3  Not Applicable  Pawel Kaczmarek   \n",
              "4    3:0       CF    35'         2:0  Not Applicable   Not Applicable   \n",
              "\n",
              "  Nacionalidad  \n",
              "0       Polaco  \n",
              "1       Polaco  \n",
              "2       Polaco  \n",
              "3       Polaco  \n",
              "4       Polaco  "
            ],
            "text/html": [
              "\n",
              "  <div id=\"df-2d4d3439-296c-4e4e-8183-91cb9f4fd38e\">\n",
              "    <div class=\"colab-df-container\">\n",
              "      <div>\n",
              "<style scoped>\n",
              "    .dataframe tbody tr th:only-of-type {\n",
              "        vertical-align: middle;\n",
              "    }\n",
              "\n",
              "    .dataframe tbody tr th {\n",
              "        vertical-align: top;\n",
              "    }\n",
              "\n",
              "    .dataframe thead th {\n",
              "        text-align: right;\n",
              "    }\n",
              "</style>\n",
              "<table border=\"1\" class=\"dataframe\">\n",
              "  <thead>\n",
              "    <tr style=\"text-align: right;\">\n",
              "      <th></th>\n",
              "      <th>Tournament</th>\n",
              "      <th>Matchday</th>\n",
              "      <th>Date</th>\n",
              "      <th>Venue</th>\n",
              "      <th>Club</th>\n",
              "      <th>Opponent</th>\n",
              "      <th>Result</th>\n",
              "      <th>Position</th>\n",
              "      <th>Minute</th>\n",
              "      <th>When Scored</th>\n",
              "      <th>Goal Type</th>\n",
              "      <th>Assist</th>\n",
              "      <th>Nacionalidad</th>\n",
              "    </tr>\n",
              "  </thead>\n",
              "  <tbody>\n",
              "    <tr>\n",
              "      <th>0</th>\n",
              "      <td>Fortuna 1 Liga</td>\n",
              "      <td>1</td>\n",
              "      <td>7/29/07</td>\n",
              "      <td>Away</td>\n",
              "      <td>Znicz Pruszkow</td>\n",
              "      <td>Pelikan Lowicz</td>\n",
              "      <td>0:2</td>\n",
              "      <td>CF</td>\n",
              "      <td>90'</td>\n",
              "      <td>0:2</td>\n",
              "      <td>Not Applicable</td>\n",
              "      <td>Not Applicable</td>\n",
              "      <td>Polaco</td>\n",
              "    </tr>\n",
              "    <tr>\n",
              "      <th>1</th>\n",
              "      <td>Fortuna 1 Liga</td>\n",
              "      <td>2</td>\n",
              "      <td>8/5/07</td>\n",
              "      <td>Home</td>\n",
              "      <td>Znicz Pruszkow</td>\n",
              "      <td>Kmita Zabierzów</td>\n",
              "      <td>4:0</td>\n",
              "      <td>CF</td>\n",
              "      <td>77'</td>\n",
              "      <td>4:0</td>\n",
              "      <td>Not Applicable</td>\n",
              "      <td>Not Applicable</td>\n",
              "      <td>Polaco</td>\n",
              "    </tr>\n",
              "    <tr>\n",
              "      <th>2</th>\n",
              "      <td>Fortuna 1 Liga</td>\n",
              "      <td>22</td>\n",
              "      <td>3/22/08</td>\n",
              "      <td>Away</td>\n",
              "      <td>Znicz Pruszkow</td>\n",
              "      <td>Slask Wroclaw</td>\n",
              "      <td>0:3</td>\n",
              "      <td>CF</td>\n",
              "      <td>24'</td>\n",
              "      <td>0:1</td>\n",
              "      <td>Not Applicable</td>\n",
              "      <td>Igor Lewczuk</td>\n",
              "      <td>Polaco</td>\n",
              "    </tr>\n",
              "    <tr>\n",
              "      <th>3</th>\n",
              "      <td>Fortuna 1 Liga</td>\n",
              "      <td>22</td>\n",
              "      <td>3/22/08</td>\n",
              "      <td>Away</td>\n",
              "      <td>Znicz Pruszkow</td>\n",
              "      <td>Slask Wroclaw</td>\n",
              "      <td>0:3</td>\n",
              "      <td>CF</td>\n",
              "      <td>56'</td>\n",
              "      <td>0:3</td>\n",
              "      <td>Not Applicable</td>\n",
              "      <td>Pawel Kaczmarek</td>\n",
              "      <td>Polaco</td>\n",
              "    </tr>\n",
              "    <tr>\n",
              "      <th>4</th>\n",
              "      <td>Fortuna 1 Liga</td>\n",
              "      <td>31</td>\n",
              "      <td>5/11/08</td>\n",
              "      <td>Home</td>\n",
              "      <td>Znicz Pruszkow</td>\n",
              "      <td>Motor Lublin</td>\n",
              "      <td>3:0</td>\n",
              "      <td>CF</td>\n",
              "      <td>35'</td>\n",
              "      <td>2:0</td>\n",
              "      <td>Not Applicable</td>\n",
              "      <td>Not Applicable</td>\n",
              "      <td>Polaco</td>\n",
              "    </tr>\n",
              "  </tbody>\n",
              "</table>\n",
              "</div>\n",
              "      <button class=\"colab-df-convert\" onclick=\"convertToInteractive('df-2d4d3439-296c-4e4e-8183-91cb9f4fd38e')\"\n",
              "              title=\"Convert this dataframe to an interactive table.\"\n",
              "              style=\"display:none;\">\n",
              "        \n",
              "  <svg xmlns=\"http://www.w3.org/2000/svg\" height=\"24px\"viewBox=\"0 0 24 24\"\n",
              "       width=\"24px\">\n",
              "    <path d=\"M0 0h24v24H0V0z\" fill=\"none\"/>\n",
              "    <path d=\"M18.56 5.44l.94 2.06.94-2.06 2.06-.94-2.06-.94-.94-2.06-.94 2.06-2.06.94zm-11 1L8.5 8.5l.94-2.06 2.06-.94-2.06-.94L8.5 2.5l-.94 2.06-2.06.94zm10 10l.94 2.06.94-2.06 2.06-.94-2.06-.94-.94-2.06-.94 2.06-2.06.94z\"/><path d=\"M17.41 7.96l-1.37-1.37c-.4-.4-.92-.59-1.43-.59-.52 0-1.04.2-1.43.59L10.3 9.45l-7.72 7.72c-.78.78-.78 2.05 0 2.83L4 21.41c.39.39.9.59 1.41.59.51 0 1.02-.2 1.41-.59l7.78-7.78 2.81-2.81c.8-.78.8-2.07 0-2.86zM5.41 20L4 18.59l7.72-7.72 1.47 1.35L5.41 20z\"/>\n",
              "  </svg>\n",
              "      </button>\n",
              "      \n",
              "  <style>\n",
              "    .colab-df-container {\n",
              "      display:flex;\n",
              "      flex-wrap:wrap;\n",
              "      gap: 12px;\n",
              "    }\n",
              "\n",
              "    .colab-df-convert {\n",
              "      background-color: #E8F0FE;\n",
              "      border: none;\n",
              "      border-radius: 50%;\n",
              "      cursor: pointer;\n",
              "      display: none;\n",
              "      fill: #1967D2;\n",
              "      height: 32px;\n",
              "      padding: 0 0 0 0;\n",
              "      width: 32px;\n",
              "    }\n",
              "\n",
              "    .colab-df-convert:hover {\n",
              "      background-color: #E2EBFA;\n",
              "      box-shadow: 0px 1px 2px rgba(60, 64, 67, 0.3), 0px 1px 3px 1px rgba(60, 64, 67, 0.15);\n",
              "      fill: #174EA6;\n",
              "    }\n",
              "\n",
              "    [theme=dark] .colab-df-convert {\n",
              "      background-color: #3B4455;\n",
              "      fill: #D2E3FC;\n",
              "    }\n",
              "\n",
              "    [theme=dark] .colab-df-convert:hover {\n",
              "      background-color: #434B5C;\n",
              "      box-shadow: 0px 1px 3px 1px rgba(0, 0, 0, 0.15);\n",
              "      filter: drop-shadow(0px 1px 2px rgba(0, 0, 0, 0.3));\n",
              "      fill: #FFFFFF;\n",
              "    }\n",
              "  </style>\n",
              "\n",
              "      <script>\n",
              "        const buttonEl =\n",
              "          document.querySelector('#df-2d4d3439-296c-4e4e-8183-91cb9f4fd38e button.colab-df-convert');\n",
              "        buttonEl.style.display =\n",
              "          google.colab.kernel.accessAllowed ? 'block' : 'none';\n",
              "\n",
              "        async function convertToInteractive(key) {\n",
              "          const element = document.querySelector('#df-2d4d3439-296c-4e4e-8183-91cb9f4fd38e');\n",
              "          const dataTable =\n",
              "            await google.colab.kernel.invokeFunction('convertToInteractive',\n",
              "                                                     [key], {});\n",
              "          if (!dataTable) return;\n",
              "\n",
              "          const docLinkHtml = 'Like what you see? Visit the ' +\n",
              "            '<a target=\"_blank\" href=https://colab.research.google.com/notebooks/data_table.ipynb>data table notebook</a>'\n",
              "            + ' to learn more about interactive tables.';\n",
              "          element.innerHTML = '';\n",
              "          dataTable['output_type'] = 'display_data';\n",
              "          await google.colab.output.renderOutput(dataTable, element);\n",
              "          const docLink = document.createElement('div');\n",
              "          docLink.innerHTML = docLinkHtml;\n",
              "          element.appendChild(docLink);\n",
              "        }\n",
              "      </script>\n",
              "    </div>\n",
              "  </div>\n",
              "  "
            ]
          },
          "metadata": {},
          "execution_count": 54
        }
      ],
      "source": [
        "lewandowskiDF.head()"
      ]
    },
    {
      "cell_type": "markdown",
      "metadata": {
        "id": "rkOqKZuRwVWQ"
      },
      "source": [
        "ELIMINO LA COLUMNA NACIONALIDAD, ES INNECESARIA,  EL DATASET SOLO HABLA DE LEWANDOWSKI (ES POLACO!) :P"
      ]
    },
    {
      "cell_type": "code",
      "execution_count": 55,
      "metadata": {
        "id": "6jHyTt1StlwY"
      },
      "outputs": [],
      "source": [
        "lewandowskiDF.drop('Nacionalidad', axis=1, inplace=True)"
      ]
    },
    {
      "cell_type": "markdown",
      "metadata": {
        "id": "II13bT5L2vnP"
      },
      "source": [
        "POR LO QUE PODEMOS OBSERVAR PRELIMINARIAMENTE GRACIAS AL .head(), ES QUE HAY ALGUNAS COLUMNAS QUE CONTIENEN DATOS NUMERICOS Y OTRAS CON CARACTERES. PROCEDO A CHEQUEAR EL TIPO DE DATO DE LAS COLUMNAS Y SI ES NECESARIO, REALIZAR ALGUNAS MODIFICACIONES PARA QUE NO HAYA PROBLEMAS A FUTURO CUANDO SE REALICEN LOS ANALISIS."
      ]
    },
    {
      "cell_type": "code",
      "execution_count": 56,
      "metadata": {
        "colab": {
          "base_uri": "https://localhost:8080/"
        },
        "id": "FhLBECsixfVt",
        "outputId": "d1afcd9b-bcdb-4829-d249-8160ca534160"
      },
      "outputs": [
        {
          "output_type": "execute_result",
          "data": {
            "text/plain": [
              "Tournament     object\n",
              "Matchday       object\n",
              "Date           object\n",
              "Venue          object\n",
              "Club           object\n",
              "Opponent       object\n",
              "Result         object\n",
              "Position       object\n",
              "Minute         object\n",
              "When Scored    object\n",
              "Goal Type      object\n",
              "Assist         object\n",
              "dtype: object"
            ]
          },
          "metadata": {},
          "execution_count": 56
        }
      ],
      "source": [
        "lewandowskiDF.dtypes"
      ]
    },
    {
      "cell_type": "code",
      "execution_count": 57,
      "metadata": {
        "id": "IG3GLJZz2qrU"
      },
      "outputs": [],
      "source": [
        "lewandowskiDF['Date'] = pd.to_datetime(lewandowskiDF['Date'])"
      ]
    },
    {
      "cell_type": "markdown",
      "metadata": {
        "id": "WjhAF3qJ56vh"
      },
      "source": [
        "LA COLUMNA 'MINUTE' PARA PASARLA A TIPO INTEGER PRIMERO ELIMINO EL APOSTROFE QUE TIENE CADA REGISTRO AL FINAL. \n",
        "LA FUNCION 'pd.to_numeric' ME ARROJABA ERROR A LA HORA DE LA CONVERSION, POR UN UN REGISTRO QUE TENIA OTRO CARACTER \"NO NUMERICO\" MAS ALLA DEL APOSTROFE. CON EL ARGUMENTO \"errors='coerce\" FORZE A LA FUNCION QUE IGNORARA ESE REGISTRO."
      ]
    },
    {
      "cell_type": "code",
      "execution_count": 58,
      "metadata": {
        "id": "fHUjo9sy36nj"
      },
      "outputs": [],
      "source": [
        "lewandowskiDF['Minute'] = lewandowskiDF['Minute'].apply(lambda x: str(x).replace(\"'\", \"\"))"
      ]
    },
    {
      "cell_type": "code",
      "execution_count": 59,
      "metadata": {
        "id": "8NCj6hKc6Wtk"
      },
      "outputs": [],
      "source": [
        "lewandowskiDF['Minute'] = pd.to_numeric(lewandowskiDF['Minute'], errors='coerce')"
      ]
    },
    {
      "cell_type": "markdown",
      "metadata": {
        "id": "6WsoOwv2u7wa"
      },
      "source": [
        "A CONTINUACION, IRE PRESENTANDO UNA VARIEDAD DE ANALISIS DONDE PODEMOS ENCONTRAR INFORMACION VALIOSA ALOJADA EN ESTE CONJUNTO DE DATOS.\n"
      ]
    },
    {
      "cell_type": "markdown",
      "metadata": {
        "id": "25MmbeEAqwx5"
      },
      "source": [
        "PRIMERO, LOS EQUIPOS EN LOS QUE COMO JUGADOR PROFESIONAL PARTICIPO."
      ]
    },
    {
      "cell_type": "code",
      "execution_count": 60,
      "metadata": {
        "colab": {
          "base_uri": "https://localhost:8080/"
        },
        "id": "NOwq9EJ9q1i5",
        "outputId": "1d15e2d5-41ed-4849-93bb-7beff502c92b"
      },
      "outputs": [
        {
          "output_type": "execute_result",
          "data": {
            "text/plain": [
              "array(['Znicz Pruszkow', 'Lech Poznan', 'Borussia Dortmund',\n",
              "       'Bayern Munich', 'FC Barcelona'], dtype=object)"
            ]
          },
          "metadata": {},
          "execution_count": 60
        }
      ],
      "source": [
        "lewandowskiDF['Club'].unique()"
      ]
    },
    {
      "cell_type": "markdown",
      "metadata": {
        "id": "8rVuGsGjssV9"
      },
      "source": [
        "DE TODOS SUS GOLES, ACA SE PUEDE VER CUAL FUE LA MANERA MAS RECURRENTE DE CONVERTIRLOS."
      ]
    },
    {
      "cell_type": "code",
      "execution_count": 61,
      "metadata": {
        "colab": {
          "base_uri": "https://localhost:8080/"
        },
        "id": "EnJe0BIXlC-d",
        "outputId": "a4092789-6960-4b55-e752-4962276cd985"
      },
      "outputs": [
        {
          "output_type": "execute_result",
          "data": {
            "text/plain": [
              "Right-footed shot         242\n",
              "Header                     82\n",
              "Left-footed shot           81\n",
              "Penalty                    58\n",
              "Not Applicable             17\n",
              "Tap-in                     11\n",
              "Direct free kick            6\n",
              "Deflected shot on goal      4\n",
              "Counter attack goal         2\n",
              "Long distance kick          1\n",
              "Chest                       1\n",
              "Name: Goal Type, dtype: int64"
            ]
          },
          "metadata": {},
          "execution_count": 61
        }
      ],
      "source": [
        "lewandowskiDF['Goal Type'].value_counts()"
      ]
    },
    {
      "cell_type": "markdown",
      "metadata": {
        "id": "MEspgB01sM8j"
      },
      "source": [
        "CANTIDAD DE PARTIDOS POR EQUIPO. HACIENDO DISTINCION SI FUERON PARTIDOS DE LOCAL O DE VISITANTE."
      ]
    },
    {
      "cell_type": "code",
      "execution_count": 62,
      "metadata": {
        "colab": {
          "base_uri": "https://localhost:8080/"
        },
        "id": "Zw1mpuzolHOV",
        "outputId": "d4cb3845-87ce-4b48-e0e3-e584b0c18461"
      },
      "outputs": [
        {
          "output_type": "execute_result",
          "data": {
            "text/plain": [
              "Club               Venue\n",
              "Bayern Munich      Home     188\n",
              "                   Away     156\n",
              "Borussia Dortmund  Home      59\n",
              "                   Away      44\n",
              "FC Barcelona       Home       7\n",
              "                   Away       5\n",
              "Lech Poznan        Away      21\n",
              "                   Home      20\n",
              "Znicz Pruszkow     Away       3\n",
              "                   Home       2\n",
              "Name: Venue, dtype: int64"
            ]
          },
          "metadata": {},
          "execution_count": 62
        }
      ],
      "source": [
        "lewandowskiDF.groupby(['Club'])['Venue'].value_counts()"
      ]
    },
    {
      "cell_type": "markdown",
      "metadata": {
        "id": "eobHJjVrlRB9"
      },
      "source": [
        "PROMEDIO DE GOLES POR TORNEO"
      ]
    },
    {
      "cell_type": "code",
      "execution_count": 63,
      "metadata": {
        "colab": {
          "base_uri": "https://localhost:8080/",
          "height": 574
        },
        "id": "4cKBVQutpAjw",
        "outputId": "68305830-3645-432a-f8a4-8479e86c9d47"
      },
      "outputs": [
        {
          "output_type": "stream",
          "name": "stderr",
          "text": [
            "<ipython-input-63-ca52c5cd4117>:1: FutureWarning: The default value of numeric_only in DataFrameGroupBy.mean is deprecated. In a future version, numeric_only will default to False. Either specify numeric_only or select only columns which should be valid for the function.\n",
            "  lewandowskiDF.groupby(['Tournament']).mean()\n"
          ]
        },
        {
          "output_type": "execute_result",
          "data": {
            "text/plain": [
              "                              Minute\n",
              "Tournament                          \n",
              "Bundesliga                 48.301695\n",
              "Champions League           48.886364\n",
              "Club World Cup             51.000000\n",
              "DFB-Pokal                  47.289474\n",
              "DFL-Supercup               44.142857\n",
              "Ekstraklasa                48.125000\n",
              "Europa League              89.000000\n",
              "Europa League Qualifying   57.000000\n",
              "Fortuna 1 Liga             56.400000\n",
              "Fortuna Polish Cup         37.500000\n",
              "LaLiga                     40.000000\n",
              "Superpuchar                 9.000000\n",
              "UEFA Cup                   99.000000\n",
              "UEFA-Cup Qualifikation     48.666667"
            ],
            "text/html": [
              "\n",
              "  <div id=\"df-d79f3aa3-fa34-41cc-bfb2-c7ffe3d8bee7\">\n",
              "    <div class=\"colab-df-container\">\n",
              "      <div>\n",
              "<style scoped>\n",
              "    .dataframe tbody tr th:only-of-type {\n",
              "        vertical-align: middle;\n",
              "    }\n",
              "\n",
              "    .dataframe tbody tr th {\n",
              "        vertical-align: top;\n",
              "    }\n",
              "\n",
              "    .dataframe thead th {\n",
              "        text-align: right;\n",
              "    }\n",
              "</style>\n",
              "<table border=\"1\" class=\"dataframe\">\n",
              "  <thead>\n",
              "    <tr style=\"text-align: right;\">\n",
              "      <th></th>\n",
              "      <th>Minute</th>\n",
              "    </tr>\n",
              "    <tr>\n",
              "      <th>Tournament</th>\n",
              "      <th></th>\n",
              "    </tr>\n",
              "  </thead>\n",
              "  <tbody>\n",
              "    <tr>\n",
              "      <th>Bundesliga</th>\n",
              "      <td>48.301695</td>\n",
              "    </tr>\n",
              "    <tr>\n",
              "      <th>Champions League</th>\n",
              "      <td>48.886364</td>\n",
              "    </tr>\n",
              "    <tr>\n",
              "      <th>Club World Cup</th>\n",
              "      <td>51.000000</td>\n",
              "    </tr>\n",
              "    <tr>\n",
              "      <th>DFB-Pokal</th>\n",
              "      <td>47.289474</td>\n",
              "    </tr>\n",
              "    <tr>\n",
              "      <th>DFL-Supercup</th>\n",
              "      <td>44.142857</td>\n",
              "    </tr>\n",
              "    <tr>\n",
              "      <th>Ekstraklasa</th>\n",
              "      <td>48.125000</td>\n",
              "    </tr>\n",
              "    <tr>\n",
              "      <th>Europa League</th>\n",
              "      <td>89.000000</td>\n",
              "    </tr>\n",
              "    <tr>\n",
              "      <th>Europa League Qualifying</th>\n",
              "      <td>57.000000</td>\n",
              "    </tr>\n",
              "    <tr>\n",
              "      <th>Fortuna 1 Liga</th>\n",
              "      <td>56.400000</td>\n",
              "    </tr>\n",
              "    <tr>\n",
              "      <th>Fortuna Polish Cup</th>\n",
              "      <td>37.500000</td>\n",
              "    </tr>\n",
              "    <tr>\n",
              "      <th>LaLiga</th>\n",
              "      <td>40.000000</td>\n",
              "    </tr>\n",
              "    <tr>\n",
              "      <th>Superpuchar</th>\n",
              "      <td>9.000000</td>\n",
              "    </tr>\n",
              "    <tr>\n",
              "      <th>UEFA Cup</th>\n",
              "      <td>99.000000</td>\n",
              "    </tr>\n",
              "    <tr>\n",
              "      <th>UEFA-Cup Qualifikation</th>\n",
              "      <td>48.666667</td>\n",
              "    </tr>\n",
              "  </tbody>\n",
              "</table>\n",
              "</div>\n",
              "      <button class=\"colab-df-convert\" onclick=\"convertToInteractive('df-d79f3aa3-fa34-41cc-bfb2-c7ffe3d8bee7')\"\n",
              "              title=\"Convert this dataframe to an interactive table.\"\n",
              "              style=\"display:none;\">\n",
              "        \n",
              "  <svg xmlns=\"http://www.w3.org/2000/svg\" height=\"24px\"viewBox=\"0 0 24 24\"\n",
              "       width=\"24px\">\n",
              "    <path d=\"M0 0h24v24H0V0z\" fill=\"none\"/>\n",
              "    <path d=\"M18.56 5.44l.94 2.06.94-2.06 2.06-.94-2.06-.94-.94-2.06-.94 2.06-2.06.94zm-11 1L8.5 8.5l.94-2.06 2.06-.94-2.06-.94L8.5 2.5l-.94 2.06-2.06.94zm10 10l.94 2.06.94-2.06 2.06-.94-2.06-.94-.94-2.06-.94 2.06-2.06.94z\"/><path d=\"M17.41 7.96l-1.37-1.37c-.4-.4-.92-.59-1.43-.59-.52 0-1.04.2-1.43.59L10.3 9.45l-7.72 7.72c-.78.78-.78 2.05 0 2.83L4 21.41c.39.39.9.59 1.41.59.51 0 1.02-.2 1.41-.59l7.78-7.78 2.81-2.81c.8-.78.8-2.07 0-2.86zM5.41 20L4 18.59l7.72-7.72 1.47 1.35L5.41 20z\"/>\n",
              "  </svg>\n",
              "      </button>\n",
              "      \n",
              "  <style>\n",
              "    .colab-df-container {\n",
              "      display:flex;\n",
              "      flex-wrap:wrap;\n",
              "      gap: 12px;\n",
              "    }\n",
              "\n",
              "    .colab-df-convert {\n",
              "      background-color: #E8F0FE;\n",
              "      border: none;\n",
              "      border-radius: 50%;\n",
              "      cursor: pointer;\n",
              "      display: none;\n",
              "      fill: #1967D2;\n",
              "      height: 32px;\n",
              "      padding: 0 0 0 0;\n",
              "      width: 32px;\n",
              "    }\n",
              "\n",
              "    .colab-df-convert:hover {\n",
              "      background-color: #E2EBFA;\n",
              "      box-shadow: 0px 1px 2px rgba(60, 64, 67, 0.3), 0px 1px 3px 1px rgba(60, 64, 67, 0.15);\n",
              "      fill: #174EA6;\n",
              "    }\n",
              "\n",
              "    [theme=dark] .colab-df-convert {\n",
              "      background-color: #3B4455;\n",
              "      fill: #D2E3FC;\n",
              "    }\n",
              "\n",
              "    [theme=dark] .colab-df-convert:hover {\n",
              "      background-color: #434B5C;\n",
              "      box-shadow: 0px 1px 3px 1px rgba(0, 0, 0, 0.15);\n",
              "      filter: drop-shadow(0px 1px 2px rgba(0, 0, 0, 0.3));\n",
              "      fill: #FFFFFF;\n",
              "    }\n",
              "  </style>\n",
              "\n",
              "      <script>\n",
              "        const buttonEl =\n",
              "          document.querySelector('#df-d79f3aa3-fa34-41cc-bfb2-c7ffe3d8bee7 button.colab-df-convert');\n",
              "        buttonEl.style.display =\n",
              "          google.colab.kernel.accessAllowed ? 'block' : 'none';\n",
              "\n",
              "        async function convertToInteractive(key) {\n",
              "          const element = document.querySelector('#df-d79f3aa3-fa34-41cc-bfb2-c7ffe3d8bee7');\n",
              "          const dataTable =\n",
              "            await google.colab.kernel.invokeFunction('convertToInteractive',\n",
              "                                                     [key], {});\n",
              "          if (!dataTable) return;\n",
              "\n",
              "          const docLinkHtml = 'Like what you see? Visit the ' +\n",
              "            '<a target=\"_blank\" href=https://colab.research.google.com/notebooks/data_table.ipynb>data table notebook</a>'\n",
              "            + ' to learn more about interactive tables.';\n",
              "          element.innerHTML = '';\n",
              "          dataTable['output_type'] = 'display_data';\n",
              "          await google.colab.output.renderOutput(dataTable, element);\n",
              "          const docLink = document.createElement('div');\n",
              "          docLink.innerHTML = docLinkHtml;\n",
              "          element.appendChild(docLink);\n",
              "        }\n",
              "      </script>\n",
              "    </div>\n",
              "  </div>\n",
              "  "
            ]
          },
          "metadata": {},
          "execution_count": 63
        }
      ],
      "source": [
        "lewandowskiDF.groupby(['Tournament']).mean()"
      ]
    },
    {
      "cell_type": "markdown",
      "metadata": {
        "id": "vbUrtDagmBiq"
      },
      "source": [
        "A QUE OPONENTE MAS VECES LE CONVIRTIO."
      ]
    },
    {
      "cell_type": "code",
      "execution_count": 64,
      "metadata": {
        "colab": {
          "base_uri": "https://localhost:8080/"
        },
        "id": "1jFv4gb0lEjJ",
        "outputId": "e4d6c013-c807-4754-a204-17ebfcb02621"
      },
      "outputs": [
        {
          "output_type": "execute_result",
          "data": {
            "text/plain": [
              "Borussia Dortmund    27\n",
              "VfL Wolfsburg        26\n",
              "FC Augsburg          23\n",
              "FC Schalke 04        21\n",
              "SV Werder Bremen     20\n",
              "                     ..\n",
              "FC Nöttingen          1\n",
              "SV Darmstadt 98       1\n",
              "Juventus FC           1\n",
              "FK Rostov             1\n",
              "RCD Mallorca          1\n",
              "Name: Opponent, Length: 99, dtype: int64"
            ]
          },
          "metadata": {},
          "execution_count": 64
        }
      ],
      "source": [
        "lewandowskiDF['Opponent'].value_counts()"
      ]
    },
    {
      "cell_type": "markdown",
      "metadata": {
        "id": "JB_ZFaMwt8wj"
      },
      "source": [
        "SU MAXIMO ASISTENTE."
      ]
    },
    {
      "cell_type": "code",
      "execution_count": 65,
      "metadata": {
        "colab": {
          "base_uri": "https://localhost:8080/"
        },
        "id": "qafYhXtymyO-",
        "outputId": "da324c6e-3c9b-49aa-d30d-304da765d3e1"
      },
      "outputs": [
        {
          "output_type": "execute_result",
          "data": {
            "text/plain": [
              "Not Applicable               106\n",
              "Thomas Müller                 60\n",
              "Joshua Kimmich                27\n",
              "Mario Götze                   18\n",
              "Kingsley Coman                17\n",
              "                            ... \n",
              "Pierre-Emerick Aubameyang      1\n",
              "Igor Lewczuk                   1\n",
              "Juan Bernat                    1\n",
              "Medhi Benatia                  1\n",
              "Ferran Torres                  1\n",
              "Name: Assist, Length: 82, dtype: int64"
            ]
          },
          "metadata": {},
          "execution_count": 65
        }
      ],
      "source": [
        "lewandowskiDF['Assist'].value_counts()"
      ]
    },
    {
      "cell_type": "markdown",
      "source": [
        "###VISUALIZACION DE RESULTADOS."
      ],
      "metadata": {
        "id": "TQ6uwTZ8fB2a"
      }
    },
    {
      "cell_type": "markdown",
      "source": [
        "SI BIEN HAY LIBRERIAS ESPÉCIFICAS PARA REALIZAR GRAFICOS, PANDAS PERMITE DE UNA MANERA SIMPLE PODER VISUALIZAR ALGUNOS DATOS.\n",
        "DEBAJO, A MODO DE EJEMPLO, REALIZO UNO CON INFORMACION OBTENIDA ANTERIORMENTE."
      ],
      "metadata": {
        "id": "5IaAMAwTfEV0"
      }
    },
    {
      "cell_type": "markdown",
      "source": [
        "SOLO POR UNA CUESTION DE COHERENCIA EN EL IDIOMA, CREO UNA COLUMNA NUEVA LLAMADA \"TIPO DE GOL ESPAÑOL\" IGUAL QUE \"GOAL TYPE\" SOLO PARA TENER LOS RESULTADOS A VISUALIZAR EN ESPAÑOL, YA QUE LOS TITULOS DEL PROXIMO GRAFICO LOS VOY A ESCRIBIR EN ESPAÑOL."
      ],
      "metadata": {
        "id": "iIrs8ZRmll9P"
      }
    },
    {
      "cell_type": "code",
      "source": [
        "tipos_de_goles_esp = []\n",
        "\n",
        "for n in lewandowskiDF['Goal Type']:\n",
        "  if 'Right-footed shoot' in n:\n",
        "    tipos_de_goles_esp.append('Remate pierna derecha')\n",
        "  elif 'Header' in n:\n",
        "    tipos_de_goles_esp.append('Cabezazo')\n",
        "  elif 'Left-footed shoot' in n:\n",
        "    tipos_de_goles_esp.append('Remate pierna izquierda')\n",
        "  elif 'Penalty' in n:\n",
        "    tipos_de_goles_esp.append('Penal')\n",
        "  elif 'Tap-in' in n:\n",
        "    tipos_de_goles_esp.append('Toque sobre la linea de arco')\n",
        "  elif 'Direct free kick' in n:\n",
        "    tipos_de_goles_esp.append('Tiro libre')\n",
        "  elif 'Deflected shot on goal' in n:\n",
        "    tipos_de_goles_esp.append('Rebote')\n",
        "  elif 'Counter attack goal' in n:\n",
        "    tipos_de_goles_esp.append('Gol de contraataque')\n",
        "  elif 'Long distance kick' in n:\n",
        "    tipos_de_goles_esp.append('Remate larga distancia')\n",
        "  elif 'Chest' in n:\n",
        "    tipos_de_goles_esp.append('Pecho')\n",
        "  else:\n",
        "    tipos_de_goles_esp.append('No Aplica')"
      ],
      "metadata": {
        "id": "Wyg4UpyjiPsj"
      },
      "execution_count": 74,
      "outputs": []
    },
    {
      "cell_type": "code",
      "source": [
        "lewandowskiDF['Tipo de gol español'] = tipos_de_goles_esp"
      ],
      "metadata": {
        "id": "If5DIHdBkeMx"
      },
      "execution_count": 77,
      "outputs": []
    },
    {
      "cell_type": "code",
      "source": [
        "lewandowskiDF.head()"
      ],
      "metadata": {
        "colab": {
          "base_uri": "https://localhost:8080/",
          "height": 354
        },
        "id": "DJTL-XWVkzYJ",
        "outputId": "0cf8c927-502a-4e9b-ad97-2f255b4abd02"
      },
      "execution_count": 76,
      "outputs": [
        {
          "output_type": "execute_result",
          "data": {
            "text/plain": [
              "        Tournament Matchday       Date Venue            Club         Opponent  \\\n",
              "0  Fortuna 1 Liga         1 2007-07-29  Away  Znicz Pruszkow   Pelikan Lowicz   \n",
              "1  Fortuna 1 Liga         2 2007-08-05  Home  Znicz Pruszkow  Kmita Zabierzów   \n",
              "2  Fortuna 1 Liga        22 2008-03-22  Away  Znicz Pruszkow    Slask Wroclaw   \n",
              "3  Fortuna 1 Liga        22 2008-03-22  Away  Znicz Pruszkow    Slask Wroclaw   \n",
              "4  Fortuna 1 Liga        31 2008-05-11  Home  Znicz Pruszkow     Motor Lublin   \n",
              "\n",
              "  Result Position  Minute When Scored       Goal Type           Assist  \\\n",
              "0    0:2       CF    90.0         0:2  Not Applicable   Not Applicable   \n",
              "1    4:0       CF    77.0         4:0  Not Applicable   Not Applicable   \n",
              "2    0:3       CF    24.0         0:1  Not Applicable     Igor Lewczuk   \n",
              "3    0:3       CF    56.0         0:3  Not Applicable  Pawel Kaczmarek   \n",
              "4    3:0       CF    35.0         2:0  Not Applicable   Not Applicable   \n",
              "\n",
              "  Tipos de gol español  \n",
              "0            No Aplica  \n",
              "1            No Aplica  \n",
              "2            No Aplica  \n",
              "3            No Aplica  \n",
              "4            No Aplica  "
            ],
            "text/html": [
              "\n",
              "  <div id=\"df-ff15c01d-ae63-4990-849e-2f6e1409fb05\">\n",
              "    <div class=\"colab-df-container\">\n",
              "      <div>\n",
              "<style scoped>\n",
              "    .dataframe tbody tr th:only-of-type {\n",
              "        vertical-align: middle;\n",
              "    }\n",
              "\n",
              "    .dataframe tbody tr th {\n",
              "        vertical-align: top;\n",
              "    }\n",
              "\n",
              "    .dataframe thead th {\n",
              "        text-align: right;\n",
              "    }\n",
              "</style>\n",
              "<table border=\"1\" class=\"dataframe\">\n",
              "  <thead>\n",
              "    <tr style=\"text-align: right;\">\n",
              "      <th></th>\n",
              "      <th>Tournament</th>\n",
              "      <th>Matchday</th>\n",
              "      <th>Date</th>\n",
              "      <th>Venue</th>\n",
              "      <th>Club</th>\n",
              "      <th>Opponent</th>\n",
              "      <th>Result</th>\n",
              "      <th>Position</th>\n",
              "      <th>Minute</th>\n",
              "      <th>When Scored</th>\n",
              "      <th>Goal Type</th>\n",
              "      <th>Assist</th>\n",
              "      <th>Tipos de gol español</th>\n",
              "    </tr>\n",
              "  </thead>\n",
              "  <tbody>\n",
              "    <tr>\n",
              "      <th>0</th>\n",
              "      <td>Fortuna 1 Liga</td>\n",
              "      <td>1</td>\n",
              "      <td>2007-07-29</td>\n",
              "      <td>Away</td>\n",
              "      <td>Znicz Pruszkow</td>\n",
              "      <td>Pelikan Lowicz</td>\n",
              "      <td>0:2</td>\n",
              "      <td>CF</td>\n",
              "      <td>90.0</td>\n",
              "      <td>0:2</td>\n",
              "      <td>Not Applicable</td>\n",
              "      <td>Not Applicable</td>\n",
              "      <td>No Aplica</td>\n",
              "    </tr>\n",
              "    <tr>\n",
              "      <th>1</th>\n",
              "      <td>Fortuna 1 Liga</td>\n",
              "      <td>2</td>\n",
              "      <td>2007-08-05</td>\n",
              "      <td>Home</td>\n",
              "      <td>Znicz Pruszkow</td>\n",
              "      <td>Kmita Zabierzów</td>\n",
              "      <td>4:0</td>\n",
              "      <td>CF</td>\n",
              "      <td>77.0</td>\n",
              "      <td>4:0</td>\n",
              "      <td>Not Applicable</td>\n",
              "      <td>Not Applicable</td>\n",
              "      <td>No Aplica</td>\n",
              "    </tr>\n",
              "    <tr>\n",
              "      <th>2</th>\n",
              "      <td>Fortuna 1 Liga</td>\n",
              "      <td>22</td>\n",
              "      <td>2008-03-22</td>\n",
              "      <td>Away</td>\n",
              "      <td>Znicz Pruszkow</td>\n",
              "      <td>Slask Wroclaw</td>\n",
              "      <td>0:3</td>\n",
              "      <td>CF</td>\n",
              "      <td>24.0</td>\n",
              "      <td>0:1</td>\n",
              "      <td>Not Applicable</td>\n",
              "      <td>Igor Lewczuk</td>\n",
              "      <td>No Aplica</td>\n",
              "    </tr>\n",
              "    <tr>\n",
              "      <th>3</th>\n",
              "      <td>Fortuna 1 Liga</td>\n",
              "      <td>22</td>\n",
              "      <td>2008-03-22</td>\n",
              "      <td>Away</td>\n",
              "      <td>Znicz Pruszkow</td>\n",
              "      <td>Slask Wroclaw</td>\n",
              "      <td>0:3</td>\n",
              "      <td>CF</td>\n",
              "      <td>56.0</td>\n",
              "      <td>0:3</td>\n",
              "      <td>Not Applicable</td>\n",
              "      <td>Pawel Kaczmarek</td>\n",
              "      <td>No Aplica</td>\n",
              "    </tr>\n",
              "    <tr>\n",
              "      <th>4</th>\n",
              "      <td>Fortuna 1 Liga</td>\n",
              "      <td>31</td>\n",
              "      <td>2008-05-11</td>\n",
              "      <td>Home</td>\n",
              "      <td>Znicz Pruszkow</td>\n",
              "      <td>Motor Lublin</td>\n",
              "      <td>3:0</td>\n",
              "      <td>CF</td>\n",
              "      <td>35.0</td>\n",
              "      <td>2:0</td>\n",
              "      <td>Not Applicable</td>\n",
              "      <td>Not Applicable</td>\n",
              "      <td>No Aplica</td>\n",
              "    </tr>\n",
              "  </tbody>\n",
              "</table>\n",
              "</div>\n",
              "      <button class=\"colab-df-convert\" onclick=\"convertToInteractive('df-ff15c01d-ae63-4990-849e-2f6e1409fb05')\"\n",
              "              title=\"Convert this dataframe to an interactive table.\"\n",
              "              style=\"display:none;\">\n",
              "        \n",
              "  <svg xmlns=\"http://www.w3.org/2000/svg\" height=\"24px\"viewBox=\"0 0 24 24\"\n",
              "       width=\"24px\">\n",
              "    <path d=\"M0 0h24v24H0V0z\" fill=\"none\"/>\n",
              "    <path d=\"M18.56 5.44l.94 2.06.94-2.06 2.06-.94-2.06-.94-.94-2.06-.94 2.06-2.06.94zm-11 1L8.5 8.5l.94-2.06 2.06-.94-2.06-.94L8.5 2.5l-.94 2.06-2.06.94zm10 10l.94 2.06.94-2.06 2.06-.94-2.06-.94-.94-2.06-.94 2.06-2.06.94z\"/><path d=\"M17.41 7.96l-1.37-1.37c-.4-.4-.92-.59-1.43-.59-.52 0-1.04.2-1.43.59L10.3 9.45l-7.72 7.72c-.78.78-.78 2.05 0 2.83L4 21.41c.39.39.9.59 1.41.59.51 0 1.02-.2 1.41-.59l7.78-7.78 2.81-2.81c.8-.78.8-2.07 0-2.86zM5.41 20L4 18.59l7.72-7.72 1.47 1.35L5.41 20z\"/>\n",
              "  </svg>\n",
              "      </button>\n",
              "      \n",
              "  <style>\n",
              "    .colab-df-container {\n",
              "      display:flex;\n",
              "      flex-wrap:wrap;\n",
              "      gap: 12px;\n",
              "    }\n",
              "\n",
              "    .colab-df-convert {\n",
              "      background-color: #E8F0FE;\n",
              "      border: none;\n",
              "      border-radius: 50%;\n",
              "      cursor: pointer;\n",
              "      display: none;\n",
              "      fill: #1967D2;\n",
              "      height: 32px;\n",
              "      padding: 0 0 0 0;\n",
              "      width: 32px;\n",
              "    }\n",
              "\n",
              "    .colab-df-convert:hover {\n",
              "      background-color: #E2EBFA;\n",
              "      box-shadow: 0px 1px 2px rgba(60, 64, 67, 0.3), 0px 1px 3px 1px rgba(60, 64, 67, 0.15);\n",
              "      fill: #174EA6;\n",
              "    }\n",
              "\n",
              "    [theme=dark] .colab-df-convert {\n",
              "      background-color: #3B4455;\n",
              "      fill: #D2E3FC;\n",
              "    }\n",
              "\n",
              "    [theme=dark] .colab-df-convert:hover {\n",
              "      background-color: #434B5C;\n",
              "      box-shadow: 0px 1px 3px 1px rgba(0, 0, 0, 0.15);\n",
              "      filter: drop-shadow(0px 1px 2px rgba(0, 0, 0, 0.3));\n",
              "      fill: #FFFFFF;\n",
              "    }\n",
              "  </style>\n",
              "\n",
              "      <script>\n",
              "        const buttonEl =\n",
              "          document.querySelector('#df-ff15c01d-ae63-4990-849e-2f6e1409fb05 button.colab-df-convert');\n",
              "        buttonEl.style.display =\n",
              "          google.colab.kernel.accessAllowed ? 'block' : 'none';\n",
              "\n",
              "        async function convertToInteractive(key) {\n",
              "          const element = document.querySelector('#df-ff15c01d-ae63-4990-849e-2f6e1409fb05');\n",
              "          const dataTable =\n",
              "            await google.colab.kernel.invokeFunction('convertToInteractive',\n",
              "                                                     [key], {});\n",
              "          if (!dataTable) return;\n",
              "\n",
              "          const docLinkHtml = 'Like what you see? Visit the ' +\n",
              "            '<a target=\"_blank\" href=https://colab.research.google.com/notebooks/data_table.ipynb>data table notebook</a>'\n",
              "            + ' to learn more about interactive tables.';\n",
              "          element.innerHTML = '';\n",
              "          dataTable['output_type'] = 'display_data';\n",
              "          await google.colab.output.renderOutput(dataTable, element);\n",
              "          const docLink = document.createElement('div');\n",
              "          docLink.innerHTML = docLinkHtml;\n",
              "          element.appendChild(docLink);\n",
              "        }\n",
              "      </script>\n",
              "    </div>\n",
              "  </div>\n",
              "  "
            ]
          },
          "metadata": {},
          "execution_count": 76
        }
      ]
    },
    {
      "cell_type": "code",
      "source": [
        "goles = lewandowskiDF['Tipo de gol español'].value_counts()"
      ],
      "metadata": {
        "id": "aLB-DDnDfY9w"
      },
      "execution_count": 78,
      "outputs": []
    },
    {
      "cell_type": "code",
      "execution_count": 79,
      "metadata": {
        "colab": {
          "base_uri": "https://localhost:8080/",
          "height": 685
        },
        "id": "yxbDkLgRbbAU",
        "outputId": "c0b25b49-fa63-4fa8-955d-d47ab1983250"
      },
      "outputs": [
        {
          "output_type": "execute_result",
          "data": {
            "text/plain": [
              "<Axes: title={'center': 'Lewandowski Goles'}, xlabel='Tipos De Goles', ylabel='Cantidad De Goles'>"
            ]
          },
          "metadata": {},
          "execution_count": 79
        },
        {
          "output_type": "display_data",
          "data": {
            "text/plain": [
              "<Figure size 1000x500 with 1 Axes>"
            ],
            "image/png": "[encoded data removed]"
          },
          "metadata": {}
        }
      ],
      "source": [
        "goles.plot(kind='bar', grid='true', title='Lewandowski Goles', xlabel='Tipos De Goles',\\\n",
        "      ylabel='Cantidad De Goles', figsize=(10,5), fontsize=10, color='darkgreen')"
      ]
    },
    {
      "cell_type": "code",
      "source": [],
      "metadata": {
        "id": "eXdVQCNKg2Pb"
      },
      "execution_count": 67,
      "outputs": []
    }
  ],
  "metadata": {
    "colab": {
      "provenance": []
    },
    "kernelspec": {
      "display_name": "Python 3",
      "name": "python3"
    },
    "language_info": {
      "name": "python"
    }
  },
  "nbformat": 4,
  "nbformat_minor": 0
}